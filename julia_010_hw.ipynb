{
 "cells": [
  {
   "cell_type": "markdown",
   "metadata": {},
   "source": [
    "# 集合 (Collection) 型別：元組 (Tuple) 、Pair、字典 (Dict)、與 Set\n",
    "\n",
    "## Day 010 作業：計算字串中各宇元出現的次數\n",
    "\n",
    "今天的作業請大家計算字串中，各字元 (包含標點符號與換行符號) 出現的次數。範例解答將以字典 (Dict) 示範，將出現在字串中的字元作為 key，字元每出現一次就將對應的 value 次數加 1。最後，印出各字元及出現的次數。\n",
    "\n",
    "【提示】要判斷字典中某個 key 是否存在，可以呼叫 `haskey(字典, key)`，若 key 存在的話就會回傳 `true`。使用範例請參閱官方文件 [https://docs.julialang.org/en/v1/base/collections/#Base.haskey](https://docs.julialang.org/en/v1/base/collections/#Base.haskey)"
   ]
  },
  {
   "cell_type": "code",
   "execution_count": 7,
   "metadata": {},
   "outputs": [
    {
     "name": "stdout",
     "output_type": "stream",
     "text": [
      "Dict{Any,Any}('有' => 6,'和' => 24,'路' => 12,'。' => 1,'中' => 12,'也' => 2,'\\n' => 5,'，' => 5,'接' => 4,'的' => 8,'沒' => 2,'；' => 2,'永' => 12)"
     ]
    }
   ],
   "source": [
    "str = \"永和有永和路，中和也有永和路，\n",
    "中和有中和路，永和也有中和路；\n",
    "中和的中和路有接永和的中和路，\n",
    "永和的永和路沒接中和的永和路；\n",
    "永和的中和路有接永和的永和路，\n",
    "中和的永和路沒接中和的中和路。\"\n",
    "dict = Dict() \n",
    "for i in Set(str)\n",
    "    count = 0\n",
    "    for j in str\n",
    "        if i == j\n",
    "            count += 1\n",
    "        end\n",
    "    dict[i] = count\n",
    "    end\n",
    "end\n",
    "print(dict)"
   ]
  },
  {
   "cell_type": "code",
   "execution_count": null,
   "metadata": {},
   "outputs": [],
   "source": []
  }
 ],
 "metadata": {
  "@webio": {
   "lastCommId": null,
   "lastKernelId": null
  },
  "kernelspec": {
   "display_name": "Julia 1.4.2",
   "language": "julia",
   "name": "julia-1.4"
  },
  "language_info": {
   "file_extension": ".jl",
   "mimetype": "application/julia",
   "name": "julia",
   "version": "1.4.2"
  }
 },
 "nbformat": 4,
 "nbformat_minor": 4
}
