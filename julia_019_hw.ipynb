{
 "cells": [
  {
   "cell_type": "markdown",
   "metadata": {
    "colab_type": "text",
    "id": "CymtLvLsl4iT"
   },
   "source": [
    "## Day 019 作業：DataFrame 的排序及顯示\n",
    "\n",
    "同 Day 017，請載入 2020/4/2 COVID-19 Daily Report 資料集，計算每個國家/區域的累計確診人數。\n",
    "\n",
    "請依確診案例數，列出截至4月2日為止 (UTC 時間)，確診案例最多的10個國家/區域。"
   ]
  },
  {
   "cell_type": "code",
   "execution_count": 1,
   "metadata": {
    "colab": {},
    "colab_type": "code",
    "id": "czd81DRQl4iW"
   },
   "outputs": [],
   "source": [
    "using DataFrames, CSV"
   ]
  },
  {
   "cell_type": "code",
   "execution_count": 2,
   "metadata": {
    "colab": {},
    "colab_type": "code",
    "id": "sLp0Kx89l4ic"
   },
   "outputs": [
    {
     "data": {
      "text/html": [
       "<table class=\"data-frame\"><thead><tr><th></th><th>FIPS</th><th>Admin2</th><th>Province_State</th><th>Country_Region</th><th>Last_Update</th><th>Lat</th></tr><tr><th></th><th>Int64⍰</th><th>String⍰</th><th>String⍰</th><th>String</th><th>String</th><th>Float64⍰</th></tr></thead><tbody><p>2,569 rows × 12 columns (omitted printing of 6 columns)</p><tr><th>1</th><td>45001</td><td>Abbeville</td><td>South Carolina</td><td>US</td><td>2020-04-02 23:25:27</td><td>34.2233</td></tr><tr><th>2</th><td>22001</td><td>Acadia</td><td>Louisiana</td><td>US</td><td>2020-04-02 23:25:27</td><td>30.2951</td></tr><tr><th>3</th><td>51001</td><td>Accomack</td><td>Virginia</td><td>US</td><td>2020-04-02 23:25:27</td><td>37.7671</td></tr><tr><th>4</th><td>16001</td><td>Ada</td><td>Idaho</td><td>US</td><td>2020-04-02 23:25:27</td><td>43.4527</td></tr><tr><th>5</th><td>19001</td><td>Adair</td><td>Iowa</td><td>US</td><td>2020-04-02 23:25:27</td><td>41.3308</td></tr><tr><th>6</th><td>29001</td><td>Adair</td><td>Missouri</td><td>US</td><td>2020-04-02 23:25:27</td><td>40.1906</td></tr><tr><th>7</th><td>40001</td><td>Adair</td><td>Oklahoma</td><td>US</td><td>2020-04-02 23:25:27</td><td>35.8849</td></tr><tr><th>8</th><td>8001</td><td>Adams</td><td>Colorado</td><td>US</td><td>2020-04-02 23:25:27</td><td>39.8743</td></tr><tr><th>9</th><td>16003</td><td>Adams</td><td>Idaho</td><td>US</td><td>2020-04-02 23:25:27</td><td>44.8933</td></tr><tr><th>10</th><td>17001</td><td>Adams</td><td>Illinois</td><td>US</td><td>2020-04-02 23:25:27</td><td>39.9882</td></tr><tr><th>11</th><td>18001</td><td>Adams</td><td>Indiana</td><td>US</td><td>2020-04-02 23:25:27</td><td>40.7458</td></tr><tr><th>12</th><td>28001</td><td>Adams</td><td>Mississippi</td><td>US</td><td>2020-04-02 23:25:27</td><td>31.4767</td></tr><tr><th>13</th><td>31001</td><td>Adams</td><td>Nebraska</td><td>US</td><td>2020-04-02 23:25:27</td><td>40.5245</td></tr><tr><th>14</th><td>42001</td><td>Adams</td><td>Pennsylvania</td><td>US</td><td>2020-04-02 23:25:27</td><td>39.8714</td></tr><tr><th>15</th><td>53001</td><td>Adams</td><td>Washington</td><td>US</td><td>2020-04-02 23:25:27</td><td>46.983</td></tr><tr><th>16</th><td>55001</td><td>Adams</td><td>Wisconsin</td><td>US</td><td>2020-04-02 23:25:27</td><td>43.9697</td></tr><tr><th>17</th><td>50001</td><td>Addison</td><td>Vermont</td><td>US</td><td>2020-04-02 23:25:27</td><td>44.0322</td></tr><tr><th>18</th><td>45003</td><td>Aiken</td><td>South Carolina</td><td>US</td><td>2020-04-02 23:25:27</td><td>33.5434</td></tr><tr><th>19</th><td>12001</td><td>Alachua</td><td>Florida</td><td>US</td><td>2020-04-02 23:25:27</td><td>29.6787</td></tr><tr><th>20</th><td>37001</td><td>Alamance</td><td>North Carolina</td><td>US</td><td>2020-04-02 23:25:27</td><td>36.0435</td></tr><tr><th>21</th><td>6001</td><td>Alameda</td><td>California</td><td>US</td><td>2020-04-02 23:25:27</td><td>37.6463</td></tr><tr><th>22</th><td>8003</td><td>Alamosa</td><td>Colorado</td><td>US</td><td>2020-04-02 23:25:27</td><td>37.5725</td></tr><tr><th>23</th><td>36001</td><td>Albany</td><td>New York</td><td>US</td><td>2020-04-02 23:25:27</td><td>42.6006</td></tr><tr><th>24</th><td>56001</td><td>Albany</td><td>Wyoming</td><td>US</td><td>2020-04-02 23:25:27</td><td>41.655</td></tr><tr><th>25</th><td>51003</td><td>Albemarle</td><td>Virginia</td><td>US</td><td>2020-04-02 23:25:27</td><td>38.0208</td></tr><tr><th>26</th><td>28003</td><td>Alcorn</td><td>Mississippi</td><td>US</td><td>2020-04-02 23:25:27</td><td>34.8808</td></tr><tr><th>27</th><td>37003</td><td>Alexander</td><td>North Carolina</td><td>US</td><td>2020-04-02 23:25:27</td><td>35.9224</td></tr><tr><th>28</th><td>51510</td><td>Alexandria</td><td>Virginia</td><td>US</td><td>2020-04-02 23:25:27</td><td>38.814</td></tr><tr><th>29</th><td>19005</td><td>Allamakee</td><td>Iowa</td><td>US</td><td>2020-04-02 23:25:27</td><td>43.2838</td></tr><tr><th>30</th><td>26005</td><td>Allegan</td><td>Michigan</td><td>US</td><td>2020-04-02 23:25:27</td><td>42.5915</td></tr><tr><th>&vellip;</th><td>&vellip;</td><td>&vellip;</td><td>&vellip;</td><td>&vellip;</td><td>&vellip;</td><td>&vellip;</td></tr></tbody></table>"
      ],
      "text/latex": [
       "\\begin{tabular}{r|ccccccc}\n",
       "\t& FIPS & Admin2 & Province\\_State & Country\\_Region & Last\\_Update & Lat & \\\\\n",
       "\t\\hline\n",
       "\t& Int64⍰ & String⍰ & String⍰ & String & String & Float64⍰ & \\\\\n",
       "\t\\hline\n",
       "\t1 & 45001 & Abbeville & South Carolina & US & 2020-04-02 23:25:27 & 34.2233 & $\\dots$ \\\\\n",
       "\t2 & 22001 & Acadia & Louisiana & US & 2020-04-02 23:25:27 & 30.2951 & $\\dots$ \\\\\n",
       "\t3 & 51001 & Accomack & Virginia & US & 2020-04-02 23:25:27 & 37.7671 & $\\dots$ \\\\\n",
       "\t4 & 16001 & Ada & Idaho & US & 2020-04-02 23:25:27 & 43.4527 & $\\dots$ \\\\\n",
       "\t5 & 19001 & Adair & Iowa & US & 2020-04-02 23:25:27 & 41.3308 & $\\dots$ \\\\\n",
       "\t6 & 29001 & Adair & Missouri & US & 2020-04-02 23:25:27 & 40.1906 & $\\dots$ \\\\\n",
       "\t7 & 40001 & Adair & Oklahoma & US & 2020-04-02 23:25:27 & 35.8849 & $\\dots$ \\\\\n",
       "\t8 & 8001 & Adams & Colorado & US & 2020-04-02 23:25:27 & 39.8743 & $\\dots$ \\\\\n",
       "\t9 & 16003 & Adams & Idaho & US & 2020-04-02 23:25:27 & 44.8933 & $\\dots$ \\\\\n",
       "\t10 & 17001 & Adams & Illinois & US & 2020-04-02 23:25:27 & 39.9882 & $\\dots$ \\\\\n",
       "\t11 & 18001 & Adams & Indiana & US & 2020-04-02 23:25:27 & 40.7458 & $\\dots$ \\\\\n",
       "\t12 & 28001 & Adams & Mississippi & US & 2020-04-02 23:25:27 & 31.4767 & $\\dots$ \\\\\n",
       "\t13 & 31001 & Adams & Nebraska & US & 2020-04-02 23:25:27 & 40.5245 & $\\dots$ \\\\\n",
       "\t14 & 42001 & Adams & Pennsylvania & US & 2020-04-02 23:25:27 & 39.8714 & $\\dots$ \\\\\n",
       "\t15 & 53001 & Adams & Washington & US & 2020-04-02 23:25:27 & 46.983 & $\\dots$ \\\\\n",
       "\t16 & 55001 & Adams & Wisconsin & US & 2020-04-02 23:25:27 & 43.9697 & $\\dots$ \\\\\n",
       "\t17 & 50001 & Addison & Vermont & US & 2020-04-02 23:25:27 & 44.0322 & $\\dots$ \\\\\n",
       "\t18 & 45003 & Aiken & South Carolina & US & 2020-04-02 23:25:27 & 33.5434 & $\\dots$ \\\\\n",
       "\t19 & 12001 & Alachua & Florida & US & 2020-04-02 23:25:27 & 29.6787 & $\\dots$ \\\\\n",
       "\t20 & 37001 & Alamance & North Carolina & US & 2020-04-02 23:25:27 & 36.0435 & $\\dots$ \\\\\n",
       "\t21 & 6001 & Alameda & California & US & 2020-04-02 23:25:27 & 37.6463 & $\\dots$ \\\\\n",
       "\t22 & 8003 & Alamosa & Colorado & US & 2020-04-02 23:25:27 & 37.5725 & $\\dots$ \\\\\n",
       "\t23 & 36001 & Albany & New York & US & 2020-04-02 23:25:27 & 42.6006 & $\\dots$ \\\\\n",
       "\t24 & 56001 & Albany & Wyoming & US & 2020-04-02 23:25:27 & 41.655 & $\\dots$ \\\\\n",
       "\t25 & 51003 & Albemarle & Virginia & US & 2020-04-02 23:25:27 & 38.0208 & $\\dots$ \\\\\n",
       "\t26 & 28003 & Alcorn & Mississippi & US & 2020-04-02 23:25:27 & 34.8808 & $\\dots$ \\\\\n",
       "\t27 & 37003 & Alexander & North Carolina & US & 2020-04-02 23:25:27 & 35.9224 & $\\dots$ \\\\\n",
       "\t28 & 51510 & Alexandria & Virginia & US & 2020-04-02 23:25:27 & 38.814 & $\\dots$ \\\\\n",
       "\t29 & 19005 & Allamakee & Iowa & US & 2020-04-02 23:25:27 & 43.2838 & $\\dots$ \\\\\n",
       "\t30 & 26005 & Allegan & Michigan & US & 2020-04-02 23:25:27 & 42.5915 & $\\dots$ \\\\\n",
       "\t$\\dots$ & $\\dots$ & $\\dots$ & $\\dots$ & $\\dots$ & $\\dots$ & $\\dots$ &  \\\\\n",
       "\\end{tabular}\n"
      ],
      "text/plain": [
       "2569×12 DataFrame. Omitted printing of 8 columns\n",
       "│ Row  │ FIPS    │ Admin2     │ Province_State │ Country_Region       │\n",
       "│      │ \u001b[90mInt64⍰\u001b[39m  │ \u001b[90mString⍰\u001b[39m    │ \u001b[90mString⍰\u001b[39m        │ \u001b[90mString\u001b[39m               │\n",
       "├──────┼─────────┼────────────┼────────────────┼──────────────────────┤\n",
       "│ 1    │ 45001   │ Abbeville  │ South Carolina │ US                   │\n",
       "│ 2    │ 22001   │ Acadia     │ Louisiana      │ US                   │\n",
       "│ 3    │ 51001   │ Accomack   │ Virginia       │ US                   │\n",
       "│ 4    │ 16001   │ Ada        │ Idaho          │ US                   │\n",
       "│ 5    │ 19001   │ Adair      │ Iowa           │ US                   │\n",
       "│ 6    │ 29001   │ Adair      │ Missouri       │ US                   │\n",
       "│ 7    │ 40001   │ Adair      │ Oklahoma       │ US                   │\n",
       "│ 8    │ 8001    │ Adams      │ Colorado       │ US                   │\n",
       "│ 9    │ 16003   │ Adams      │ Idaho          │ US                   │\n",
       "│ 10   │ 17001   │ Adams      │ Illinois       │ US                   │\n",
       "⋮\n",
       "│ 2559 │ \u001b[90mmissing\u001b[39m │ \u001b[90mmissing\u001b[39m    │ \u001b[90mmissing\u001b[39m        │ Ukraine              │\n",
       "│ 2560 │ \u001b[90mmissing\u001b[39m │ \u001b[90mmissing\u001b[39m    │ \u001b[90mmissing\u001b[39m        │ United Arab Emirates │\n",
       "│ 2561 │ \u001b[90mmissing\u001b[39m │ \u001b[90mmissing\u001b[39m    │ \u001b[90mmissing\u001b[39m        │ United Kingdom       │\n",
       "│ 2562 │ \u001b[90mmissing\u001b[39m │ \u001b[90mmissing\u001b[39m    │ \u001b[90mmissing\u001b[39m        │ Uruguay              │\n",
       "│ 2563 │ \u001b[90mmissing\u001b[39m │ \u001b[90mmissing\u001b[39m    │ \u001b[90mmissing\u001b[39m        │ Uzbekistan           │\n",
       "│ 2564 │ \u001b[90mmissing\u001b[39m │ \u001b[90mmissing\u001b[39m    │ \u001b[90mmissing\u001b[39m        │ Venezuela            │\n",
       "│ 2565 │ \u001b[90mmissing\u001b[39m │ \u001b[90mmissing\u001b[39m    │ \u001b[90mmissing\u001b[39m        │ Vietnam              │\n",
       "│ 2566 │ \u001b[90mmissing\u001b[39m │ \u001b[90mmissing\u001b[39m    │ \u001b[90mmissing\u001b[39m        │ West Bank and Gaza   │\n",
       "│ 2567 │ \u001b[90mmissing\u001b[39m │ \u001b[90mmissing\u001b[39m    │ \u001b[90mmissing\u001b[39m        │ Zambia               │\n",
       "│ 2568 │ \u001b[90mmissing\u001b[39m │ \u001b[90mmissing\u001b[39m    │ \u001b[90mmissing\u001b[39m        │ Zimbabwe             │\n",
       "│ 2569 │ \u001b[90mmissing\u001b[39m │ unassigned │ Wyoming        │ US                   │"
      ]
     },
     "execution_count": 2,
     "metadata": {},
     "output_type": "execute_result"
    }
   ],
   "source": [
    "df = CSV.read(\"04-02-2020.csv\")"
   ]
  },
  {
   "cell_type": "code",
   "execution_count": 3,
   "metadata": {
    "colab": {},
    "colab_type": "code",
    "id": "XFKjf3bVl4ih"
   },
   "outputs": [
    {
     "data": {
      "text/html": [
       "<table class=\"data-frame\"><thead><tr><th></th><th>FIPS</th><th>Admin2</th><th>Province_State</th><th>Country_Region</th><th>Last_Update</th><th>Lat</th></tr><tr><th></th><th>Int64⍰</th><th>String⍰</th><th>String⍰</th><th>String</th><th>String</th><th>Float64⍰</th></tr></thead><tbody><p>2,569 rows × 12 columns (omitted printing of 6 columns)</p><tr><th>1</th><td>missing</td><td>missing</td><td>missing</td><td>Italy</td><td>2020-04-02 23:25:14</td><td>41.8719</td></tr><tr><th>2</th><td>missing</td><td>missing</td><td>missing</td><td>Spain</td><td>2020-04-02 23:25:14</td><td>40.4637</td></tr><tr><th>3</th><td>missing</td><td>missing</td><td>missing</td><td>Germany</td><td>2020-04-02 23:25:14</td><td>51.1657</td></tr><tr><th>4</th><td>missing</td><td>missing</td><td>Hubei</td><td>China</td><td>2020-04-02 08:26:02</td><td>30.9756</td></tr><tr><th>5</th><td>missing</td><td>missing</td><td>missing</td><td>France</td><td>2020-04-02 23:25:14</td><td>46.2276</td></tr><tr><th>6</th><td>36061</td><td>New York City</td><td>New York</td><td>US</td><td>2020-04-02 23:25:27</td><td>40.7673</td></tr><tr><th>7</th><td>missing</td><td>missing</td><td>missing</td><td>Iran</td><td>2020-04-02 23:25:14</td><td>32.4279</td></tr><tr><th>8</th><td>missing</td><td>missing</td><td>missing</td><td>United Kingdom</td><td>2020-04-02 23:25:14</td><td>55.3781</td></tr><tr><th>9</th><td>missing</td><td>missing</td><td>missing</td><td>Switzerland</td><td>2020-04-02 23:25:14</td><td>46.8182</td></tr><tr><th>10</th><td>missing</td><td>missing</td><td>missing</td><td>Turkey</td><td>2020-04-02 23:25:14</td><td>38.9637</td></tr><tr><th>11</th><td>missing</td><td>missing</td><td>missing</td><td>Belgium</td><td>2020-04-02 23:25:14</td><td>50.8333</td></tr><tr><th>12</th><td>missing</td><td>missing</td><td>missing</td><td>Netherlands</td><td>2020-04-02 23:25:14</td><td>52.1326</td></tr><tr><th>13</th><td>36119</td><td>Westchester</td><td>New York</td><td>US</td><td>2020-04-02 23:25:27</td><td>41.1628</td></tr><tr><th>14</th><td>missing</td><td>missing</td><td>missing</td><td>Austria</td><td>2020-04-02 23:25:14</td><td>47.5162</td></tr><tr><th>15</th><td>36059</td><td>Nassau</td><td>New York</td><td>US</td><td>2020-04-02 23:25:27</td><td>40.7407</td></tr><tr><th>16</th><td>missing</td><td>missing</td><td>missing</td><td>Korea, South</td><td>2020-04-02 23:25:14</td><td>35.9078</td></tr><tr><th>17</th><td>missing</td><td>missing</td><td>missing</td><td>Portugal</td><td>2020-04-02 23:25:14</td><td>39.3999</td></tr><tr><th>18</th><td>36103</td><td>Suffolk</td><td>New York</td><td>US</td><td>2020-04-02 23:25:27</td><td>40.8832</td></tr><tr><th>19</th><td>missing</td><td>missing</td><td>missing</td><td>Brazil</td><td>2020-04-02 23:25:14</td><td>-14.235</td></tr><tr><th>20</th><td>missing</td><td>missing</td><td>missing</td><td>Israel</td><td>2020-04-02 23:25:14</td><td>31.0461</td></tr><tr><th>21</th><td>17031</td><td>Cook</td><td>Illinois</td><td>US</td><td>2020-04-02 23:25:27</td><td>41.8414</td></tr><tr><th>22</th><td>missing</td><td>missing</td><td>missing</td><td>Sweden</td><td>2020-04-02 23:25:14</td><td>60.1282</td></tr><tr><th>23</th><td>missing</td><td>missing</td><td>Quebec</td><td>Canada</td><td>2020-04-02 23:31:46</td><td>52.9399</td></tr><tr><th>24</th><td>missing</td><td>missing</td><td>missing</td><td>Norway</td><td>2020-04-02 23:25:14</td><td>60.472</td></tr><tr><th>25</th><td>26163</td><td>Wayne</td><td>Michigan</td><td>US</td><td>2020-04-02 23:25:27</td><td>42.2781</td></tr><tr><th>26</th><td>90034</td><td>Unassigned</td><td>New Jersey</td><td>US</td><td>2020-04-02 23:25:27</td><td>missing</td></tr><tr><th>27</th><td>34003</td><td>Bergen</td><td>New Jersey</td><td>US</td><td>2020-04-02 23:25:27</td><td>40.9601</td></tr><tr><th>28</th><td>6037</td><td>Los Angeles</td><td>California</td><td>US</td><td>2020-04-02 23:25:27</td><td>34.3083</td></tr><tr><th>29</th><td>missing</td><td>missing</td><td>missing</td><td>Czechia</td><td>2020-04-02 23:25:14</td><td>49.8175</td></tr><tr><th>30</th><td>missing</td><td>missing</td><td>missing</td><td>Ireland</td><td>2020-04-02 23:25:14</td><td>53.1424</td></tr><tr><th>&vellip;</th><td>&vellip;</td><td>&vellip;</td><td>&vellip;</td><td>&vellip;</td><td>&vellip;</td><td>&vellip;</td></tr></tbody></table>"
      ],
      "text/latex": [
       "\\begin{tabular}{r|ccccccc}\n",
       "\t& FIPS & Admin2 & Province\\_State & Country\\_Region & Last\\_Update & Lat & \\\\\n",
       "\t\\hline\n",
       "\t& Int64⍰ & String⍰ & String⍰ & String & String & Float64⍰ & \\\\\n",
       "\t\\hline\n",
       "\t1 &  &  &  & Italy & 2020-04-02 23:25:14 & 41.8719 & $\\dots$ \\\\\n",
       "\t2 &  &  &  & Spain & 2020-04-02 23:25:14 & 40.4637 & $\\dots$ \\\\\n",
       "\t3 &  &  &  & Germany & 2020-04-02 23:25:14 & 51.1657 & $\\dots$ \\\\\n",
       "\t4 &  &  & Hubei & China & 2020-04-02 08:26:02 & 30.9756 & $\\dots$ \\\\\n",
       "\t5 &  &  &  & France & 2020-04-02 23:25:14 & 46.2276 & $\\dots$ \\\\\n",
       "\t6 & 36061 & New York City & New York & US & 2020-04-02 23:25:27 & 40.7673 & $\\dots$ \\\\\n",
       "\t7 &  &  &  & Iran & 2020-04-02 23:25:14 & 32.4279 & $\\dots$ \\\\\n",
       "\t8 &  &  &  & United Kingdom & 2020-04-02 23:25:14 & 55.3781 & $\\dots$ \\\\\n",
       "\t9 &  &  &  & Switzerland & 2020-04-02 23:25:14 & 46.8182 & $\\dots$ \\\\\n",
       "\t10 &  &  &  & Turkey & 2020-04-02 23:25:14 & 38.9637 & $\\dots$ \\\\\n",
       "\t11 &  &  &  & Belgium & 2020-04-02 23:25:14 & 50.8333 & $\\dots$ \\\\\n",
       "\t12 &  &  &  & Netherlands & 2020-04-02 23:25:14 & 52.1326 & $\\dots$ \\\\\n",
       "\t13 & 36119 & Westchester & New York & US & 2020-04-02 23:25:27 & 41.1628 & $\\dots$ \\\\\n",
       "\t14 &  &  &  & Austria & 2020-04-02 23:25:14 & 47.5162 & $\\dots$ \\\\\n",
       "\t15 & 36059 & Nassau & New York & US & 2020-04-02 23:25:27 & 40.7407 & $\\dots$ \\\\\n",
       "\t16 &  &  &  & Korea, South & 2020-04-02 23:25:14 & 35.9078 & $\\dots$ \\\\\n",
       "\t17 &  &  &  & Portugal & 2020-04-02 23:25:14 & 39.3999 & $\\dots$ \\\\\n",
       "\t18 & 36103 & Suffolk & New York & US & 2020-04-02 23:25:27 & 40.8832 & $\\dots$ \\\\\n",
       "\t19 &  &  &  & Brazil & 2020-04-02 23:25:14 & -14.235 & $\\dots$ \\\\\n",
       "\t20 &  &  &  & Israel & 2020-04-02 23:25:14 & 31.0461 & $\\dots$ \\\\\n",
       "\t21 & 17031 & Cook & Illinois & US & 2020-04-02 23:25:27 & 41.8414 & $\\dots$ \\\\\n",
       "\t22 &  &  &  & Sweden & 2020-04-02 23:25:14 & 60.1282 & $\\dots$ \\\\\n",
       "\t23 &  &  & Quebec & Canada & 2020-04-02 23:31:46 & 52.9399 & $\\dots$ \\\\\n",
       "\t24 &  &  &  & Norway & 2020-04-02 23:25:14 & 60.472 & $\\dots$ \\\\\n",
       "\t25 & 26163 & Wayne & Michigan & US & 2020-04-02 23:25:27 & 42.2781 & $\\dots$ \\\\\n",
       "\t26 & 90034 & Unassigned & New Jersey & US & 2020-04-02 23:25:27 &  & $\\dots$ \\\\\n",
       "\t27 & 34003 & Bergen & New Jersey & US & 2020-04-02 23:25:27 & 40.9601 & $\\dots$ \\\\\n",
       "\t28 & 6037 & Los Angeles & California & US & 2020-04-02 23:25:27 & 34.3083 & $\\dots$ \\\\\n",
       "\t29 &  &  &  & Czechia & 2020-04-02 23:25:14 & 49.8175 & $\\dots$ \\\\\n",
       "\t30 &  &  &  & Ireland & 2020-04-02 23:25:14 & 53.1424 & $\\dots$ \\\\\n",
       "\t$\\dots$ & $\\dots$ & $\\dots$ & $\\dots$ & $\\dots$ & $\\dots$ & $\\dots$ &  \\\\\n",
       "\\end{tabular}\n"
      ],
      "text/plain": [
       "2569×12 DataFrame. Omitted printing of 8 columns\n",
       "│ Row  │ FIPS    │ Admin2        │ Province_State   │ Country_Region │\n",
       "│      │ \u001b[90mInt64⍰\u001b[39m  │ \u001b[90mString⍰\u001b[39m       │ \u001b[90mString⍰\u001b[39m          │ \u001b[90mString\u001b[39m         │\n",
       "├──────┼─────────┼───────────────┼──────────────────┼────────────────┤\n",
       "│ 1    │ \u001b[90mmissing\u001b[39m │ \u001b[90mmissing\u001b[39m       │ \u001b[90mmissing\u001b[39m          │ Italy          │\n",
       "│ 2    │ \u001b[90mmissing\u001b[39m │ \u001b[90mmissing\u001b[39m       │ \u001b[90mmissing\u001b[39m          │ Spain          │\n",
       "│ 3    │ \u001b[90mmissing\u001b[39m │ \u001b[90mmissing\u001b[39m       │ \u001b[90mmissing\u001b[39m          │ Germany        │\n",
       "│ 4    │ \u001b[90mmissing\u001b[39m │ \u001b[90mmissing\u001b[39m       │ Hubei            │ China          │\n",
       "│ 5    │ \u001b[90mmissing\u001b[39m │ \u001b[90mmissing\u001b[39m       │ \u001b[90mmissing\u001b[39m          │ France         │\n",
       "│ 6    │ 36061   │ New York City │ New York         │ US             │\n",
       "│ 7    │ \u001b[90mmissing\u001b[39m │ \u001b[90mmissing\u001b[39m       │ \u001b[90mmissing\u001b[39m          │ Iran           │\n",
       "│ 8    │ \u001b[90mmissing\u001b[39m │ \u001b[90mmissing\u001b[39m       │ \u001b[90mmissing\u001b[39m          │ United Kingdom │\n",
       "│ 9    │ \u001b[90mmissing\u001b[39m │ \u001b[90mmissing\u001b[39m       │ \u001b[90mmissing\u001b[39m          │ Switzerland    │\n",
       "│ 10   │ \u001b[90mmissing\u001b[39m │ \u001b[90mmissing\u001b[39m       │ \u001b[90mmissing\u001b[39m          │ Turkey         │\n",
       "⋮\n",
       "│ 2559 │ 90036   │ Unassigned    │ New York         │ US             │\n",
       "│ 2560 │ 90038   │ Unassigned    │ North Dakota     │ US             │\n",
       "│ 2561 │ 90040   │ Unassigned    │ Oklahoma         │ US             │\n",
       "│ 2562 │ 90046   │ Unassigned    │ South Dakota     │ US             │\n",
       "│ 2563 │ 90051   │ Unassigned    │ Virginia         │ US             │\n",
       "│ 2564 │ 90054   │ Unassigned    │ West Virginia    │ US             │\n",
       "│ 2565 │ 90055   │ Unassigned    │ Wisconsin        │ US             │\n",
       "│ 2566 │ \u001b[90mmissing\u001b[39m │ \u001b[90mmissing\u001b[39m       │ Diamond Princess │ Canada         │\n",
       "│ 2567 │ \u001b[90mmissing\u001b[39m │ \u001b[90mmissing\u001b[39m       │ Recovered        │ Canada         │\n",
       "│ 2568 │ \u001b[90mmissing\u001b[39m │ \u001b[90mmissing\u001b[39m       │ Recovered        │ US             │\n",
       "│ 2569 │ \u001b[90mmissing\u001b[39m │ unassigned    │ Wyoming          │ US             │"
      ]
     },
     "execution_count": 3,
     "metadata": {},
     "output_type": "execute_result"
    }
   ],
   "source": [
    "# 請在此輸入程式碼\n",
    "df1 =sort(df, :Confirmed, rev=true)"
   ]
  },
  {
   "cell_type": "code",
   "execution_count": 9,
   "metadata": {},
   "outputs": [
    {
     "data": {
      "text/html": [
       "<table class=\"data-frame\"><thead><tr><th></th><th>Country_Region</th><th>Confirmed</th></tr><tr><th></th><th>String</th><th>Int64</th></tr></thead><tbody><p>10 rows × 2 columns</p><tr><th>1</th><td>Italy</td><td>115242</td></tr><tr><th>2</th><td>Spain</td><td>112065</td></tr><tr><th>3</th><td>Germany</td><td>84794</td></tr><tr><th>4</th><td>China</td><td>67802</td></tr><tr><th>5</th><td>France</td><td>59105</td></tr><tr><th>6</th><td>US</td><td>51809</td></tr><tr><th>7</th><td>Iran</td><td>50468</td></tr><tr><th>8</th><td>United Kingdom</td><td>33718</td></tr><tr><th>9</th><td>Switzerland</td><td>18827</td></tr><tr><th>10</th><td>Turkey</td><td>18135</td></tr></tbody></table>"
      ],
      "text/latex": [
       "\\begin{tabular}{r|cc}\n",
       "\t& Country\\_Region & Confirmed\\\\\n",
       "\t\\hline\n",
       "\t& String & Int64\\\\\n",
       "\t\\hline\n",
       "\t1 & Italy & 115242 \\\\\n",
       "\t2 & Spain & 112065 \\\\\n",
       "\t3 & Germany & 84794 \\\\\n",
       "\t4 & China & 67802 \\\\\n",
       "\t5 & France & 59105 \\\\\n",
       "\t6 & US & 51809 \\\\\n",
       "\t7 & Iran & 50468 \\\\\n",
       "\t8 & United Kingdom & 33718 \\\\\n",
       "\t9 & Switzerland & 18827 \\\\\n",
       "\t10 & Turkey & 18135 \\\\\n",
       "\\end{tabular}\n"
      ],
      "text/plain": [
       "10×2 DataFrame\n",
       "│ Row │ Country_Region │ Confirmed │\n",
       "│     │ \u001b[90mString\u001b[39m         │ \u001b[90mInt64\u001b[39m     │\n",
       "├─────┼────────────────┼───────────┤\n",
       "│ 1   │ Italy          │ 115242    │\n",
       "│ 2   │ Spain          │ 112065    │\n",
       "│ 3   │ Germany        │ 84794     │\n",
       "│ 4   │ China          │ 67802     │\n",
       "│ 5   │ France         │ 59105     │\n",
       "│ 6   │ US             │ 51809     │\n",
       "│ 7   │ Iran           │ 50468     │\n",
       "│ 8   │ United Kingdom │ 33718     │\n",
       "│ 9   │ Switzerland    │ 18827     │\n",
       "│ 10  │ Turkey         │ 18135     │"
      ]
     },
     "execution_count": 9,
     "metadata": {},
     "output_type": "execute_result"
    }
   ],
   "source": [
    "df2=df1[:,[:Country_Region, :Confirmed]]\n",
    "first(df2,10)"
   ]
  },
  {
   "cell_type": "code",
   "execution_count": null,
   "metadata": {},
   "outputs": [],
   "source": []
  }
 ],
 "metadata": {
  "colab": {
   "name": "julia_019_hw.ipynb",
   "provenance": []
  },
  "kernelspec": {
   "display_name": "Julia 1.5.0",
   "language": "julia",
   "name": "julia-1.5"
  },
  "language_info": {
   "file_extension": ".jl",
   "mimetype": "application/julia",
   "name": "julia",
   "version": "1.5.0"
  }
 },
 "nbformat": 4,
 "nbformat_minor": 1
}
